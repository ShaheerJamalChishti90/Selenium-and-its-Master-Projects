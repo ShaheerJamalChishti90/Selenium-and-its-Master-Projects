{
 "cells": [
  {
   "cell_type": "markdown",
   "id": "c61678b7",
   "metadata": {},
   "source": [
    "# <b>This is the scraping of Coin Market Website</b> "
   ]
  },
  {
   "cell_type": "code",
   "execution_count": 62,
   "id": "543abb8c",
   "metadata": {},
   "outputs": [],
   "source": [
    "from selenium import webdriver\n",
    "from selenium.webdriver.chrome.options import Options\n",
    "from selenium.webdriver.common.by import By"
   ]
  },
  {
   "cell_type": "code",
   "execution_count": 63,
   "id": "fd69dde0",
   "metadata": {},
   "outputs": [],
   "source": [
    "options = Options()\n",
    "driver = webdriver.Chrome(options=options)\n",
    "driver.get(\"https://coinmarketcap.com/\")"
   ]
  },
  {
   "cell_type": "code",
   "execution_count": 64,
   "id": "984a1cce",
   "metadata": {},
   "outputs": [
    {
     "data": {
      "text/plain": [
       "<selenium.webdriver.remote.webelement.WebElement (session=\"3a121190b52df061073129af9a1b12f0\", element=\"f.224A85FFE8E744E066DF28C0CE64F8D5.d.C6137DD2BB16CBF9594BFC42E7C5E59D.e.258\")>"
      ]
     },
     "execution_count": 64,
     "metadata": {},
     "output_type": "execute_result"
    }
   ],
   "source": [
    "tables = driver.find_element(By.CLASS_NAME, \"cmc-table\")\n",
    "tables"
   ]
  },
  {
   "cell_type": "code",
   "execution_count": 65,
   "id": "7dcea1f5",
   "metadata": {},
   "outputs": [
    {
     "data": {
      "text/plain": [
       "[<selenium.webdriver.remote.webelement.WebElement (session=\"3a121190b52df061073129af9a1b12f0\", element=\"f.224A85FFE8E744E066DF28C0CE64F8D5.d.C6137DD2BB16CBF9594BFC42E7C5E59D.e.270\")>,\n",
       " <selenium.webdriver.remote.webelement.WebElement (session=\"3a121190b52df061073129af9a1b12f0\", element=\"f.224A85FFE8E744E066DF28C0CE64F8D5.d.C6137DD2BB16CBF9594BFC42E7C5E59D.e.271\")>,\n",
       " <selenium.webdriver.remote.webelement.WebElement (session=\"3a121190b52df061073129af9a1b12f0\", element=\"f.224A85FFE8E744E066DF28C0CE64F8D5.d.C6137DD2BB16CBF9594BFC42E7C5E59D.e.272\")>,\n",
       " <selenium.webdriver.remote.webelement.WebElement (session=\"3a121190b52df061073129af9a1b12f0\", element=\"f.224A85FFE8E744E066DF28C0CE64F8D5.d.C6137DD2BB16CBF9594BFC42E7C5E59D.e.273\")>,\n",
       " <selenium.webdriver.remote.webelement.WebElement (session=\"3a121190b52df061073129af9a1b12f0\", element=\"f.224A85FFE8E744E066DF28C0CE64F8D5.d.C6137DD2BB16CBF9594BFC42E7C5E59D.e.274\")>,\n",
       " <selenium.webdriver.remote.webelement.WebElement (session=\"3a121190b52df061073129af9a1b12f0\", element=\"f.224A85FFE8E744E066DF28C0CE64F8D5.d.C6137DD2BB16CBF9594BFC42E7C5E59D.e.275\")>,\n",
       " <selenium.webdriver.remote.webelement.WebElement (session=\"3a121190b52df061073129af9a1b12f0\", element=\"f.224A85FFE8E744E066DF28C0CE64F8D5.d.C6137DD2BB16CBF9594BFC42E7C5E59D.e.276\")>,\n",
       " <selenium.webdriver.remote.webelement.WebElement (session=\"3a121190b52df061073129af9a1b12f0\", element=\"f.224A85FFE8E744E066DF28C0CE64F8D5.d.C6137DD2BB16CBF9594BFC42E7C5E59D.e.277\")>,\n",
       " <selenium.webdriver.remote.webelement.WebElement (session=\"3a121190b52df061073129af9a1b12f0\", element=\"f.224A85FFE8E744E066DF28C0CE64F8D5.d.C6137DD2BB16CBF9594BFC42E7C5E59D.e.278\")>,\n",
       " <selenium.webdriver.remote.webelement.WebElement (session=\"3a121190b52df061073129af9a1b12f0\", element=\"f.224A85FFE8E744E066DF28C0CE64F8D5.d.C6137DD2BB16CBF9594BFC42E7C5E59D.e.279\")>,\n",
       " <selenium.webdriver.remote.webelement.WebElement (session=\"3a121190b52df061073129af9a1b12f0\", element=\"f.224A85FFE8E744E066DF28C0CE64F8D5.d.C6137DD2BB16CBF9594BFC42E7C5E59D.e.280\")>,\n",
       " <selenium.webdriver.remote.webelement.WebElement (session=\"3a121190b52df061073129af9a1b12f0\", element=\"f.224A85FFE8E744E066DF28C0CE64F8D5.d.C6137DD2BB16CBF9594BFC42E7C5E59D.e.281\")>,\n",
       " <selenium.webdriver.remote.webelement.WebElement (session=\"3a121190b52df061073129af9a1b12f0\", element=\"f.224A85FFE8E744E066DF28C0CE64F8D5.d.C6137DD2BB16CBF9594BFC42E7C5E59D.e.282\")>,\n",
       " <selenium.webdriver.remote.webelement.WebElement (session=\"3a121190b52df061073129af9a1b12f0\", element=\"f.224A85FFE8E744E066DF28C0CE64F8D5.d.C6137DD2BB16CBF9594BFC42E7C5E59D.e.283\")>,\n",
       " <selenium.webdriver.remote.webelement.WebElement (session=\"3a121190b52df061073129af9a1b12f0\", element=\"f.224A85FFE8E744E066DF28C0CE64F8D5.d.C6137DD2BB16CBF9594BFC42E7C5E59D.e.284\")>,\n",
       " <selenium.webdriver.remote.webelement.WebElement (session=\"3a121190b52df061073129af9a1b12f0\", element=\"f.224A85FFE8E744E066DF28C0CE64F8D5.d.C6137DD2BB16CBF9594BFC42E7C5E59D.e.285\")>,\n",
       " <selenium.webdriver.remote.webelement.WebElement (session=\"3a121190b52df061073129af9a1b12f0\", element=\"f.224A85FFE8E744E066DF28C0CE64F8D5.d.C6137DD2BB16CBF9594BFC42E7C5E59D.e.286\")>,\n",
       " <selenium.webdriver.remote.webelement.WebElement (session=\"3a121190b52df061073129af9a1b12f0\", element=\"f.224A85FFE8E744E066DF28C0CE64F8D5.d.C6137DD2BB16CBF9594BFC42E7C5E59D.e.287\")>,\n",
       " <selenium.webdriver.remote.webelement.WebElement (session=\"3a121190b52df061073129af9a1b12f0\", element=\"f.224A85FFE8E744E066DF28C0CE64F8D5.d.C6137DD2BB16CBF9594BFC42E7C5E59D.e.288\")>,\n",
       " <selenium.webdriver.remote.webelement.WebElement (session=\"3a121190b52df061073129af9a1b12f0\", element=\"f.224A85FFE8E744E066DF28C0CE64F8D5.d.C6137DD2BB16CBF9594BFC42E7C5E59D.e.289\")>,\n",
       " <selenium.webdriver.remote.webelement.WebElement (session=\"3a121190b52df061073129af9a1b12f0\", element=\"f.224A85FFE8E744E066DF28C0CE64F8D5.d.C6137DD2BB16CBF9594BFC42E7C5E59D.e.290\")>,\n",
       " <selenium.webdriver.remote.webelement.WebElement (session=\"3a121190b52df061073129af9a1b12f0\", element=\"f.224A85FFE8E744E066DF28C0CE64F8D5.d.C6137DD2BB16CBF9594BFC42E7C5E59D.e.291\")>,\n",
       " <selenium.webdriver.remote.webelement.WebElement (session=\"3a121190b52df061073129af9a1b12f0\", element=\"f.224A85FFE8E744E066DF28C0CE64F8D5.d.C6137DD2BB16CBF9594BFC42E7C5E59D.e.292\")>,\n",
       " <selenium.webdriver.remote.webelement.WebElement (session=\"3a121190b52df061073129af9a1b12f0\", element=\"f.224A85FFE8E744E066DF28C0CE64F8D5.d.C6137DD2BB16CBF9594BFC42E7C5E59D.e.293\")>,\n",
       " <selenium.webdriver.remote.webelement.WebElement (session=\"3a121190b52df061073129af9a1b12f0\", element=\"f.224A85FFE8E744E066DF28C0CE64F8D5.d.C6137DD2BB16CBF9594BFC42E7C5E59D.e.294\")>,\n",
       " <selenium.webdriver.remote.webelement.WebElement (session=\"3a121190b52df061073129af9a1b12f0\", element=\"f.224A85FFE8E744E066DF28C0CE64F8D5.d.C6137DD2BB16CBF9594BFC42E7C5E59D.e.295\")>,\n",
       " <selenium.webdriver.remote.webelement.WebElement (session=\"3a121190b52df061073129af9a1b12f0\", element=\"f.224A85FFE8E744E066DF28C0CE64F8D5.d.C6137DD2BB16CBF9594BFC42E7C5E59D.e.296\")>,\n",
       " <selenium.webdriver.remote.webelement.WebElement (session=\"3a121190b52df061073129af9a1b12f0\", element=\"f.224A85FFE8E744E066DF28C0CE64F8D5.d.C6137DD2BB16CBF9594BFC42E7C5E59D.e.297\")>,\n",
       " <selenium.webdriver.remote.webelement.WebElement (session=\"3a121190b52df061073129af9a1b12f0\", element=\"f.224A85FFE8E744E066DF28C0CE64F8D5.d.C6137DD2BB16CBF9594BFC42E7C5E59D.e.298\")>,\n",
       " <selenium.webdriver.remote.webelement.WebElement (session=\"3a121190b52df061073129af9a1b12f0\", element=\"f.224A85FFE8E744E066DF28C0CE64F8D5.d.C6137DD2BB16CBF9594BFC42E7C5E59D.e.299\")>,\n",
       " <selenium.webdriver.remote.webelement.WebElement (session=\"3a121190b52df061073129af9a1b12f0\", element=\"f.224A85FFE8E744E066DF28C0CE64F8D5.d.C6137DD2BB16CBF9594BFC42E7C5E59D.e.300\")>,\n",
       " <selenium.webdriver.remote.webelement.WebElement (session=\"3a121190b52df061073129af9a1b12f0\", element=\"f.224A85FFE8E744E066DF28C0CE64F8D5.d.C6137DD2BB16CBF9594BFC42E7C5E59D.e.301\")>,\n",
       " <selenium.webdriver.remote.webelement.WebElement (session=\"3a121190b52df061073129af9a1b12f0\", element=\"f.224A85FFE8E744E066DF28C0CE64F8D5.d.C6137DD2BB16CBF9594BFC42E7C5E59D.e.302\")>,\n",
       " <selenium.webdriver.remote.webelement.WebElement (session=\"3a121190b52df061073129af9a1b12f0\", element=\"f.224A85FFE8E744E066DF28C0CE64F8D5.d.C6137DD2BB16CBF9594BFC42E7C5E59D.e.303\")>,\n",
       " <selenium.webdriver.remote.webelement.WebElement (session=\"3a121190b52df061073129af9a1b12f0\", element=\"f.224A85FFE8E744E066DF28C0CE64F8D5.d.C6137DD2BB16CBF9594BFC42E7C5E59D.e.304\")>,\n",
       " <selenium.webdriver.remote.webelement.WebElement (session=\"3a121190b52df061073129af9a1b12f0\", element=\"f.224A85FFE8E744E066DF28C0CE64F8D5.d.C6137DD2BB16CBF9594BFC42E7C5E59D.e.305\")>,\n",
       " <selenium.webdriver.remote.webelement.WebElement (session=\"3a121190b52df061073129af9a1b12f0\", element=\"f.224A85FFE8E744E066DF28C0CE64F8D5.d.C6137DD2BB16CBF9594BFC42E7C5E59D.e.306\")>,\n",
       " <selenium.webdriver.remote.webelement.WebElement (session=\"3a121190b52df061073129af9a1b12f0\", element=\"f.224A85FFE8E744E066DF28C0CE64F8D5.d.C6137DD2BB16CBF9594BFC42E7C5E59D.e.307\")>,\n",
       " <selenium.webdriver.remote.webelement.WebElement (session=\"3a121190b52df061073129af9a1b12f0\", element=\"f.224A85FFE8E744E066DF28C0CE64F8D5.d.C6137DD2BB16CBF9594BFC42E7C5E59D.e.308\")>,\n",
       " <selenium.webdriver.remote.webelement.WebElement (session=\"3a121190b52df061073129af9a1b12f0\", element=\"f.224A85FFE8E744E066DF28C0CE64F8D5.d.C6137DD2BB16CBF9594BFC42E7C5E59D.e.309\")>,\n",
       " <selenium.webdriver.remote.webelement.WebElement (session=\"3a121190b52df061073129af9a1b12f0\", element=\"f.224A85FFE8E744E066DF28C0CE64F8D5.d.C6137DD2BB16CBF9594BFC42E7C5E59D.e.310\")>,\n",
       " <selenium.webdriver.remote.webelement.WebElement (session=\"3a121190b52df061073129af9a1b12f0\", element=\"f.224A85FFE8E744E066DF28C0CE64F8D5.d.C6137DD2BB16CBF9594BFC42E7C5E59D.e.311\")>,\n",
       " <selenium.webdriver.remote.webelement.WebElement (session=\"3a121190b52df061073129af9a1b12f0\", element=\"f.224A85FFE8E744E066DF28C0CE64F8D5.d.C6137DD2BB16CBF9594BFC42E7C5E59D.e.312\")>,\n",
       " <selenium.webdriver.remote.webelement.WebElement (session=\"3a121190b52df061073129af9a1b12f0\", element=\"f.224A85FFE8E744E066DF28C0CE64F8D5.d.C6137DD2BB16CBF9594BFC42E7C5E59D.e.313\")>,\n",
       " <selenium.webdriver.remote.webelement.WebElement (session=\"3a121190b52df061073129af9a1b12f0\", element=\"f.224A85FFE8E744E066DF28C0CE64F8D5.d.C6137DD2BB16CBF9594BFC42E7C5E59D.e.314\")>,\n",
       " <selenium.webdriver.remote.webelement.WebElement (session=\"3a121190b52df061073129af9a1b12f0\", element=\"f.224A85FFE8E744E066DF28C0CE64F8D5.d.C6137DD2BB16CBF9594BFC42E7C5E59D.e.315\")>,\n",
       " <selenium.webdriver.remote.webelement.WebElement (session=\"3a121190b52df061073129af9a1b12f0\", element=\"f.224A85FFE8E744E066DF28C0CE64F8D5.d.C6137DD2BB16CBF9594BFC42E7C5E59D.e.316\")>,\n",
       " <selenium.webdriver.remote.webelement.WebElement (session=\"3a121190b52df061073129af9a1b12f0\", element=\"f.224A85FFE8E744E066DF28C0CE64F8D5.d.C6137DD2BB16CBF9594BFC42E7C5E59D.e.317\")>,\n",
       " <selenium.webdriver.remote.webelement.WebElement (session=\"3a121190b52df061073129af9a1b12f0\", element=\"f.224A85FFE8E744E066DF28C0CE64F8D5.d.C6137DD2BB16CBF9594BFC42E7C5E59D.e.318\")>,\n",
       " <selenium.webdriver.remote.webelement.WebElement (session=\"3a121190b52df061073129af9a1b12f0\", element=\"f.224A85FFE8E744E066DF28C0CE64F8D5.d.C6137DD2BB16CBF9594BFC42E7C5E59D.e.319\")>,\n",
       " <selenium.webdriver.remote.webelement.WebElement (session=\"3a121190b52df061073129af9a1b12f0\", element=\"f.224A85FFE8E744E066DF28C0CE64F8D5.d.C6137DD2BB16CBF9594BFC42E7C5E59D.e.320\")>,\n",
       " <selenium.webdriver.remote.webelement.WebElement (session=\"3a121190b52df061073129af9a1b12f0\", element=\"f.224A85FFE8E744E066DF28C0CE64F8D5.d.C6137DD2BB16CBF9594BFC42E7C5E59D.e.321\")>,\n",
       " <selenium.webdriver.remote.webelement.WebElement (session=\"3a121190b52df061073129af9a1b12f0\", element=\"f.224A85FFE8E744E066DF28C0CE64F8D5.d.C6137DD2BB16CBF9594BFC42E7C5E59D.e.322\")>,\n",
       " <selenium.webdriver.remote.webelement.WebElement (session=\"3a121190b52df061073129af9a1b12f0\", element=\"f.224A85FFE8E744E066DF28C0CE64F8D5.d.C6137DD2BB16CBF9594BFC42E7C5E59D.e.323\")>,\n",
       " <selenium.webdriver.remote.webelement.WebElement (session=\"3a121190b52df061073129af9a1b12f0\", element=\"f.224A85FFE8E744E066DF28C0CE64F8D5.d.C6137DD2BB16CBF9594BFC42E7C5E59D.e.324\")>,\n",
       " <selenium.webdriver.remote.webelement.WebElement (session=\"3a121190b52df061073129af9a1b12f0\", element=\"f.224A85FFE8E744E066DF28C0CE64F8D5.d.C6137DD2BB16CBF9594BFC42E7C5E59D.e.325\")>,\n",
       " <selenium.webdriver.remote.webelement.WebElement (session=\"3a121190b52df061073129af9a1b12f0\", element=\"f.224A85FFE8E744E066DF28C0CE64F8D5.d.C6137DD2BB16CBF9594BFC42E7C5E59D.e.326\")>,\n",
       " <selenium.webdriver.remote.webelement.WebElement (session=\"3a121190b52df061073129af9a1b12f0\", element=\"f.224A85FFE8E744E066DF28C0CE64F8D5.d.C6137DD2BB16CBF9594BFC42E7C5E59D.e.327\")>,\n",
       " <selenium.webdriver.remote.webelement.WebElement (session=\"3a121190b52df061073129af9a1b12f0\", element=\"f.224A85FFE8E744E066DF28C0CE64F8D5.d.C6137DD2BB16CBF9594BFC42E7C5E59D.e.328\")>,\n",
       " <selenium.webdriver.remote.webelement.WebElement (session=\"3a121190b52df061073129af9a1b12f0\", element=\"f.224A85FFE8E744E066DF28C0CE64F8D5.d.C6137DD2BB16CBF9594BFC42E7C5E59D.e.329\")>,\n",
       " <selenium.webdriver.remote.webelement.WebElement (session=\"3a121190b52df061073129af9a1b12f0\", element=\"f.224A85FFE8E744E066DF28C0CE64F8D5.d.C6137DD2BB16CBF9594BFC42E7C5E59D.e.330\")>,\n",
       " <selenium.webdriver.remote.webelement.WebElement (session=\"3a121190b52df061073129af9a1b12f0\", element=\"f.224A85FFE8E744E066DF28C0CE64F8D5.d.C6137DD2BB16CBF9594BFC42E7C5E59D.e.331\")>,\n",
       " <selenium.webdriver.remote.webelement.WebElement (session=\"3a121190b52df061073129af9a1b12f0\", element=\"f.224A85FFE8E744E066DF28C0CE64F8D5.d.C6137DD2BB16CBF9594BFC42E7C5E59D.e.332\")>,\n",
       " <selenium.webdriver.remote.webelement.WebElement (session=\"3a121190b52df061073129af9a1b12f0\", element=\"f.224A85FFE8E744E066DF28C0CE64F8D5.d.C6137DD2BB16CBF9594BFC42E7C5E59D.e.333\")>,\n",
       " <selenium.webdriver.remote.webelement.WebElement (session=\"3a121190b52df061073129af9a1b12f0\", element=\"f.224A85FFE8E744E066DF28C0CE64F8D5.d.C6137DD2BB16CBF9594BFC42E7C5E59D.e.334\")>,\n",
       " <selenium.webdriver.remote.webelement.WebElement (session=\"3a121190b52df061073129af9a1b12f0\", element=\"f.224A85FFE8E744E066DF28C0CE64F8D5.d.C6137DD2BB16CBF9594BFC42E7C5E59D.e.335\")>,\n",
       " <selenium.webdriver.remote.webelement.WebElement (session=\"3a121190b52df061073129af9a1b12f0\", element=\"f.224A85FFE8E744E066DF28C0CE64F8D5.d.C6137DD2BB16CBF9594BFC42E7C5E59D.e.336\")>,\n",
       " <selenium.webdriver.remote.webelement.WebElement (session=\"3a121190b52df061073129af9a1b12f0\", element=\"f.224A85FFE8E744E066DF28C0CE64F8D5.d.C6137DD2BB16CBF9594BFC42E7C5E59D.e.337\")>,\n",
       " <selenium.webdriver.remote.webelement.WebElement (session=\"3a121190b52df061073129af9a1b12f0\", element=\"f.224A85FFE8E744E066DF28C0CE64F8D5.d.C6137DD2BB16CBF9594BFC42E7C5E59D.e.338\")>,\n",
       " <selenium.webdriver.remote.webelement.WebElement (session=\"3a121190b52df061073129af9a1b12f0\", element=\"f.224A85FFE8E744E066DF28C0CE64F8D5.d.C6137DD2BB16CBF9594BFC42E7C5E59D.e.339\")>,\n",
       " <selenium.webdriver.remote.webelement.WebElement (session=\"3a121190b52df061073129af9a1b12f0\", element=\"f.224A85FFE8E744E066DF28C0CE64F8D5.d.C6137DD2BB16CBF9594BFC42E7C5E59D.e.340\")>,\n",
       " <selenium.webdriver.remote.webelement.WebElement (session=\"3a121190b52df061073129af9a1b12f0\", element=\"f.224A85FFE8E744E066DF28C0CE64F8D5.d.C6137DD2BB16CBF9594BFC42E7C5E59D.e.341\")>,\n",
       " <selenium.webdriver.remote.webelement.WebElement (session=\"3a121190b52df061073129af9a1b12f0\", element=\"f.224A85FFE8E744E066DF28C0CE64F8D5.d.C6137DD2BB16CBF9594BFC42E7C5E59D.e.342\")>,\n",
       " <selenium.webdriver.remote.webelement.WebElement (session=\"3a121190b52df061073129af9a1b12f0\", element=\"f.224A85FFE8E744E066DF28C0CE64F8D5.d.C6137DD2BB16CBF9594BFC42E7C5E59D.e.343\")>,\n",
       " <selenium.webdriver.remote.webelement.WebElement (session=\"3a121190b52df061073129af9a1b12f0\", element=\"f.224A85FFE8E744E066DF28C0CE64F8D5.d.C6137DD2BB16CBF9594BFC42E7C5E59D.e.344\")>,\n",
       " <selenium.webdriver.remote.webelement.WebElement (session=\"3a121190b52df061073129af9a1b12f0\", element=\"f.224A85FFE8E744E066DF28C0CE64F8D5.d.C6137DD2BB16CBF9594BFC42E7C5E59D.e.345\")>,\n",
       " <selenium.webdriver.remote.webelement.WebElement (session=\"3a121190b52df061073129af9a1b12f0\", element=\"f.224A85FFE8E744E066DF28C0CE64F8D5.d.C6137DD2BB16CBF9594BFC42E7C5E59D.e.346\")>,\n",
       " <selenium.webdriver.remote.webelement.WebElement (session=\"3a121190b52df061073129af9a1b12f0\", element=\"f.224A85FFE8E744E066DF28C0CE64F8D5.d.C6137DD2BB16CBF9594BFC42E7C5E59D.e.347\")>,\n",
       " <selenium.webdriver.remote.webelement.WebElement (session=\"3a121190b52df061073129af9a1b12f0\", element=\"f.224A85FFE8E744E066DF28C0CE64F8D5.d.C6137DD2BB16CBF9594BFC42E7C5E59D.e.348\")>,\n",
       " <selenium.webdriver.remote.webelement.WebElement (session=\"3a121190b52df061073129af9a1b12f0\", element=\"f.224A85FFE8E744E066DF28C0CE64F8D5.d.C6137DD2BB16CBF9594BFC42E7C5E59D.e.349\")>,\n",
       " <selenium.webdriver.remote.webelement.WebElement (session=\"3a121190b52df061073129af9a1b12f0\", element=\"f.224A85FFE8E744E066DF28C0CE64F8D5.d.C6137DD2BB16CBF9594BFC42E7C5E59D.e.350\")>,\n",
       " <selenium.webdriver.remote.webelement.WebElement (session=\"3a121190b52df061073129af9a1b12f0\", element=\"f.224A85FFE8E744E066DF28C0CE64F8D5.d.C6137DD2BB16CBF9594BFC42E7C5E59D.e.351\")>,\n",
       " <selenium.webdriver.remote.webelement.WebElement (session=\"3a121190b52df061073129af9a1b12f0\", element=\"f.224A85FFE8E744E066DF28C0CE64F8D5.d.C6137DD2BB16CBF9594BFC42E7C5E59D.e.352\")>,\n",
       " <selenium.webdriver.remote.webelement.WebElement (session=\"3a121190b52df061073129af9a1b12f0\", element=\"f.224A85FFE8E744E066DF28C0CE64F8D5.d.C6137DD2BB16CBF9594BFC42E7C5E59D.e.353\")>,\n",
       " <selenium.webdriver.remote.webelement.WebElement (session=\"3a121190b52df061073129af9a1b12f0\", element=\"f.224A85FFE8E744E066DF28C0CE64F8D5.d.C6137DD2BB16CBF9594BFC42E7C5E59D.e.354\")>,\n",
       " <selenium.webdriver.remote.webelement.WebElement (session=\"3a121190b52df061073129af9a1b12f0\", element=\"f.224A85FFE8E744E066DF28C0CE64F8D5.d.C6137DD2BB16CBF9594BFC42E7C5E59D.e.355\")>,\n",
       " <selenium.webdriver.remote.webelement.WebElement (session=\"3a121190b52df061073129af9a1b12f0\", element=\"f.224A85FFE8E744E066DF28C0CE64F8D5.d.C6137DD2BB16CBF9594BFC42E7C5E59D.e.356\")>,\n",
       " <selenium.webdriver.remote.webelement.WebElement (session=\"3a121190b52df061073129af9a1b12f0\", element=\"f.224A85FFE8E744E066DF28C0CE64F8D5.d.C6137DD2BB16CBF9594BFC42E7C5E59D.e.357\")>,\n",
       " <selenium.webdriver.remote.webelement.WebElement (session=\"3a121190b52df061073129af9a1b12f0\", element=\"f.224A85FFE8E744E066DF28C0CE64F8D5.d.C6137DD2BB16CBF9594BFC42E7C5E59D.e.358\")>,\n",
       " <selenium.webdriver.remote.webelement.WebElement (session=\"3a121190b52df061073129af9a1b12f0\", element=\"f.224A85FFE8E744E066DF28C0CE64F8D5.d.C6137DD2BB16CBF9594BFC42E7C5E59D.e.359\")>,\n",
       " <selenium.webdriver.remote.webelement.WebElement (session=\"3a121190b52df061073129af9a1b12f0\", element=\"f.224A85FFE8E744E066DF28C0CE64F8D5.d.C6137DD2BB16CBF9594BFC42E7C5E59D.e.360\")>,\n",
       " <selenium.webdriver.remote.webelement.WebElement (session=\"3a121190b52df061073129af9a1b12f0\", element=\"f.224A85FFE8E744E066DF28C0CE64F8D5.d.C6137DD2BB16CBF9594BFC42E7C5E59D.e.361\")>,\n",
       " <selenium.webdriver.remote.webelement.WebElement (session=\"3a121190b52df061073129af9a1b12f0\", element=\"f.224A85FFE8E744E066DF28C0CE64F8D5.d.C6137DD2BB16CBF9594BFC42E7C5E59D.e.362\")>,\n",
       " <selenium.webdriver.remote.webelement.WebElement (session=\"3a121190b52df061073129af9a1b12f0\", element=\"f.224A85FFE8E744E066DF28C0CE64F8D5.d.C6137DD2BB16CBF9594BFC42E7C5E59D.e.363\")>,\n",
       " <selenium.webdriver.remote.webelement.WebElement (session=\"3a121190b52df061073129af9a1b12f0\", element=\"f.224A85FFE8E744E066DF28C0CE64F8D5.d.C6137DD2BB16CBF9594BFC42E7C5E59D.e.364\")>,\n",
       " <selenium.webdriver.remote.webelement.WebElement (session=\"3a121190b52df061073129af9a1b12f0\", element=\"f.224A85FFE8E744E066DF28C0CE64F8D5.d.C6137DD2BB16CBF9594BFC42E7C5E59D.e.365\")>,\n",
       " <selenium.webdriver.remote.webelement.WebElement (session=\"3a121190b52df061073129af9a1b12f0\", element=\"f.224A85FFE8E744E066DF28C0CE64F8D5.d.C6137DD2BB16CBF9594BFC42E7C5E59D.e.366\")>,\n",
       " <selenium.webdriver.remote.webelement.WebElement (session=\"3a121190b52df061073129af9a1b12f0\", element=\"f.224A85FFE8E744E066DF28C0CE64F8D5.d.C6137DD2BB16CBF9594BFC42E7C5E59D.e.367\")>,\n",
       " <selenium.webdriver.remote.webelement.WebElement (session=\"3a121190b52df061073129af9a1b12f0\", element=\"f.224A85FFE8E744E066DF28C0CE64F8D5.d.C6137DD2BB16CBF9594BFC42E7C5E59D.e.368\")>,\n",
       " <selenium.webdriver.remote.webelement.WebElement (session=\"3a121190b52df061073129af9a1b12f0\", element=\"f.224A85FFE8E744E066DF28C0CE64F8D5.d.C6137DD2BB16CBF9594BFC42E7C5E59D.e.369\")>,\n",
       " <selenium.webdriver.remote.webelement.WebElement (session=\"3a121190b52df061073129af9a1b12f0\", element=\"f.224A85FFE8E744E066DF28C0CE64F8D5.d.C6137DD2BB16CBF9594BFC42E7C5E59D.e.370\")>]"
      ]
     },
     "execution_count": 65,
     "metadata": {},
     "output_type": "execute_result"
    }
   ],
   "source": [
    "all_rows = tables.find_elements(By.TAG_NAME, \"tr\")\n",
    "all_rows"
   ]
  },
  {
   "cell_type": "code",
   "execution_count": 74,
   "id": "16243f99",
   "metadata": {},
   "outputs": [
    {
     "name": "stdout",
     "output_type": "stream",
     "text": [
      "1 Bitcoin\n",
      "BTC\n",
      "Buy $104,695.21 0.24% 0.94% 9.66% $2,079,587,855,052 $45,451,133,735\n",
      "433.66K BTC\n",
      "2 Ethereum\n",
      "ETH\n",
      "Buy $2,520.11 0.33% 4.49% 37.74% $304,253,713,082 $32,603,389,949\n",
      "12.89M ETH\n",
      "3 Tether\n",
      "USDT\n",
      "Buy $1.00 0.02% 0.01% 0.00% $149,897,989,549 $94,978,936,195\n",
      "94.97B USDT\n",
      "4 XRP\n",
      "XRP\n",
      "Buy $2.37 0.26% 0.74% 8.79% $139,302,203,860 $4,553,310,765\n",
      "1.90B XRP\n",
      "5 BNB\n",
      "BNB\n",
      "Buy $657.98 0.08% 0.70% 10.92% $92,702,862,885 $2,044,568,459\n",
      "3.10M BNB\n",
      "6 Solana\n",
      "SOL\n",
      "Buy $174.88 0.21% 2.98% 20.02% $90,823,731,215 $4,479,278,959\n",
      "25.61M SOL\n",
      "7 USDC\n",
      "USDC\n",
      "Buy $0.9998 0.01% 0.02% 0.01% $60,797,647,862 $10,307,723,040\n",
      "10.30B USDC\n",
      "8 Dogecoin\n",
      "DOGE\n",
      "Buy $0.2353 0.78% 4.78% 34.89% $35,116,164,580 $3,868,962,924\n",
      "16.44B DOGE\n",
      "9 Cardano\n",
      "ADA\n",
      "Buy $0.8044 0.56% 1.12% 16.41% $28,407,486,275 $1,397,840,484\n",
      "1.73B ADA\n",
      "10 TRON\n",
      "TRX\n",
      "Buy $0.2622 0.31% 0.79% 5.92% $24,890,141,149 $963,835,909\n",
      "3.67B TRX\n"
     ]
    }
   ],
   "source": [
    "for row in all_rows[1:11]:\n",
    "    table = row.find_elements(By.TAG_NAME, \"td\")\n",
    "    rank = table[1].text\n",
    "    name = table[2].text\n",
    "    price = table[3].text\n",
    "    hour_change = table[4].text\n",
    "    day_change = table[5].text\n",
    "    seven_days_change = table[6].text\n",
    "    market_cap = table[7].text\n",
    "    volume24hour = table[8].text\n",
    "    \n",
    "    print(rank, name, price, hour_change, day_change, seven_days_change, market_cap, volume24hour)"
   ]
  }
 ],
 "metadata": {
  "kernelspec": {
   "display_name": "Python 3",
   "language": "python",
   "name": "python3"
  },
  "language_info": {
   "codemirror_mode": {
    "name": "ipython",
    "version": 3
   },
   "file_extension": ".py",
   "mimetype": "text/x-python",
   "name": "python",
   "nbconvert_exporter": "python",
   "pygments_lexer": "ipython3",
   "version": "3.12.4"
  }
 },
 "nbformat": 4,
 "nbformat_minor": 5
}

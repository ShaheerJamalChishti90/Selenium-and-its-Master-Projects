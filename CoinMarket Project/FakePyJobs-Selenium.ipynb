{
 "cells": [
  {
   "cell_type": "markdown",
   "id": "6d6bac8d",
   "metadata": {},
   "source": [
    "# 02. Scraping with Selenium (This is the practice code); Website: Fake Python Jobs"
   ]
  },
  {
   "cell_type": "code",
   "execution_count": 1,
   "id": "a5d0dd8a",
   "metadata": {},
   "outputs": [],
   "source": [
    "from selenium import webdriver\n",
    "from selenium.webdriver.chrome.options import Options\n",
    "from selenium.webdriver.common.by import By\n",
    "\n",
    "# Here we are just checking if the script is running in a headless environment and setting up Chrome options accordingly.\n",
    "# driver = webdriver.Chrome()\n",
    "# driver.get(\"https://www.google.com\")\n",
    "\n",
    "options = Options()\n",
    "driver = webdriver.Chrome(options=options)\n",
    "driver.get(\"https://realpython.github.io/fake-jobs/\")"
   ]
  },
  {
   "cell_type": "code",
   "execution_count": null,
   "id": "b49ed4ac",
   "metadata": {},
   "outputs": [
    {
     "data": {
      "text/plain": [
       "'Senior Python Developer'"
      ]
     },
     "execution_count": 17,
     "metadata": {},
     "output_type": "execute_result"
    }
   ],
   "source": [
    "# I can get the desired output using this CLASS_NAME function\n",
    "\n",
    "title = driver.find_element(By.CLASS_NAME, \"title.is-5\").text\n",
    "title\n"
   ]
  },
  {
   "cell_type": "code",
   "execution_count": null,
   "id": "bbac3bb9",
   "metadata": {},
   "outputs": [
    {
     "data": {
      "text/plain": [
       "'Senior Python Developer'"
      ]
     },
     "execution_count": 18,
     "metadata": {},
     "output_type": "execute_result"
    }
   ],
   "source": [
    "# I can get the same out put using this XPATH function\n",
    "\n",
    "title = driver.find_element(By.XPATH, \"/html/body/section/div[2]/div/div[1]/div/div/div[1]/div[2]/h2\").text\n",
    "title\n"
   ]
  },
  {
   "cell_type": "code",
   "execution_count": 28,
   "id": "32c88ff2",
   "metadata": {},
   "outputs": [
    {
     "name": "stdout",
     "output_type": "stream",
     "text": [
      "Senior Python Developer, Payne, Roberts and Davis, Stewartbury, AA\n",
      "Energy engineer, Vasquez-Davidson, Christopherville, AA\n",
      "Legal executive, Jackson, Chambers and Levy, Port Ericaburgh, AA\n",
      "Fitness centre manager, Savage-Bradley, East Seanview, AP\n",
      "Product manager, Ramirez Inc, North Jamieview, AP\n",
      "Medical technical officer, Rogers-Yates, Davidville, AP\n",
      "Physiological scientist, Kramer-Klein, South Christopher, AE\n",
      "Textile designer, Meyers-Johnson, Port Jonathan, AE\n",
      "Television floor manager, Hughes-Williams, Osbornetown, AE\n",
      "Waste management officer, Jones, Williams and Villa, Scotttown, AP\n",
      "Software Engineer (Python), Garcia PLC, Ericberg, AE\n",
      "Interpreter, Gregory and Sons, Ramireztown, AE\n",
      "Architect, Clark, Garcia and Sosa, Figueroaview, AA\n",
      "Meteorologist, Bush PLC, Kelseystad, AA\n",
      "Audiological scientist, Salazar-Meyers, Williamsburgh, AE\n",
      "English as a second language teacher, Parker, Murphy and Brooks, Mitchellburgh, AE\n",
      "Surgeon, Cruz-Brown, West Jessicabury, AA\n",
      "Equities trader, Macdonald-Ferguson, Maloneshire, AE\n",
      "Newspaper journalist, Williams, Peterson and Rojas, Johnsonton, AA\n",
      "Materials engineer, Smith and Sons, South Davidtown, AP\n",
      "Python Programmer (Entry-Level), Moss, Duncan and Allen, Port Sara, AE\n",
      "Product/process development scientist, Gomez-Carroll, Marktown, AA\n",
      "Scientist, research (maths), Manning, Welch and Herring, Laurenland, AE\n",
      "Ecologist, Lee, Gutierrez and Brown, Lauraton, AP\n",
      "Materials engineer, Davis, Serrano and Cook, South Tammyberg, AP\n",
      "Historic buildings inspector/conservation officer, Smith LLC, North Brandonville, AP\n",
      "Data scientist, Thomas Group, Port Robertfurt, AA\n",
      "Psychiatrist, Silva-King, Burnettbury, AE\n",
      "Structural engineer, Pierce-Long, Herbertside, AA\n",
      "Immigration officer, Walker-Simpson, Christopherport, AP\n",
      "Python Programmer (Entry-Level), Cooper and Sons, West Victor, AE\n",
      "Neurosurgeon, Donovan, Gonzalez and Figueroa, Port Aaron, AP\n",
      "Broadcast engineer, Morgan, Butler and Bennett, Loribury, AA\n",
      "Make, Snyder-Lee, Angelastad, AP\n",
      "Nurse, adult, Harris PLC, Larrytown, AE\n",
      "Air broker, Washington PLC, West Colin, AP\n",
      "Editor, film/video, Brown, Price and Campbell, West Stephanie, AP\n",
      "Production assistant, radio, Mcgee PLC, Laurentown, AP\n",
      "Engineer, communications, Dixon Inc, Wrightberg, AP\n",
      "Sales executive, Thompson, Sheppard and Ward, Alberttown, AE\n",
      "Software Developer (Python), Adams-Brewer, Brockburgh, AE\n",
      "Futures trader, Schneider-Brady, North Jason, AE\n",
      "Tour manager, Gonzales-Frank, Arnoldhaven, AE\n",
      "Cytogeneticist, Smith-Wong, Lake Destiny, AP\n",
      "Designer, multimedia, Pierce-Herrera, South Timothyburgh, AP\n",
      "Trade union research officer, Aguilar, Rivera and Quinn, New Jimmyton, AE\n",
      "Chemist, analytical, Lowe, Barnes and Thomas, New Lucasbury, AP\n",
      "Programmer, multimedia, Lewis, Gonzalez and Vasquez, Port Cory, AE\n",
      "Engineer, broadcasting (operations), Taylor PLC, Gileston, AA\n",
      "Teacher, primary school, Oliver, Jones and Ramirez, Cindyshire, AA\n",
      "Python Developer, Rivera and Sons, East Michaelfort, AA\n",
      "Manufacturing systems engineer, Garcia PLC, Joybury, AE\n",
      "Producer, television/film/video, Johnson, Wells and Kramer, Emmatown, AE\n",
      "Scientist, forensic, Gonzalez LLC, Colehaven, AP\n",
      "Bonds trader, Morgan, White and Macdonald, Port Coryton, AE\n",
      "Editorial assistant, Robinson-Fitzpatrick, Amyborough, AA\n",
      "Photographer, Waters, Wilson and Hoover, Reynoldsville, AA\n",
      "Retail banker, Hill LLC, Port Billy, AP\n",
      "Jewellery designer, Li-Gregory, Adamburgh, AA\n",
      "Ophthalmologist, Fisher, Ryan and Coleman, Wilsonmouth, AA\n",
      "Back-End Web Developer (Python, Django), Stewart-Alexander, South Kimberly, AA\n",
      "Licensed conveyancer, Abbott and Sons, Benjaminland, AP\n",
      "Futures trader, Bryant, Santana and Davenport, Zacharyport, AA\n",
      "Counselling psychologist, Smith PLC, Port Devonville, AE\n",
      "Insurance underwriter, Patterson-Singh, East Thomas, AE\n",
      "Engineer, automotive, Martinez-Berry, New Jeffrey, AP\n",
      "Producer, radio, May, Taylor and Fisher, Davidside, AA\n",
      "Dispensing optician, Bailey, Owen and Thompson, Jamesville, AA\n",
      "Designer, fashion/clothing, Vasquez Ltd, New Kelly, AP\n",
      "Chartered loss adjuster, Leblanc LLC, Lake Antonio, AA\n",
      "Back-End Web Developer (Python, Django), Jackson, Ali and Mckee, New Elizabethside, AA\n",
      "Forest/woodland manager, Blankenship, Knight and Powell, Millsbury, AE\n",
      "Clinical cytogeneticist, Patton, Haynes and Jones, Lloydton, AP\n",
      "Print production planner, Wood Inc, Port Jeremy, AA\n",
      "Systems developer, Collins Group, New Elizabethtown, AA\n",
      "Graphic designer, Flores-Nelson, Charlesstad, AE\n",
      "Writer, Mitchell, Jones and Olson, Josephbury, AE\n",
      "Field seismologist, Howard Group, Seanfurt, AA\n",
      "Chief Strategy Officer, Kramer-Edwards, Williambury, AA\n",
      "Air cabin crew, Berry-Houston, South Jorgeside, AP\n",
      "Python Programmer (Entry-Level), Mathews Inc, Robertborough, AP\n",
      "Warden/ranger, Riley-Johnson, South Saratown, AP\n",
      "Sports therapist, Spencer and Sons, Hullview, AA\n",
      "Arts development officer, Camacho-Sanchez, Philipland, AP\n",
      "Printmaker, Oliver and Sons, North Patty, AE\n",
      "Health and safety adviser, Eaton PLC, North Stephen, AE\n",
      "Manufacturing systems engineer, Stanley-Frederick, Stevensland, AP\n",
      "Programmer, applications, Bradley LLC, Reyesstad, AE\n",
      "Medical physicist, Parker, Goodwin and Zavala, Bellberg, AP\n",
      "Media planner, Kim-Miles, North Johnland, AE\n",
      "Software Developer (Python), Moreno-Rodriguez, Martinezburgh, AE\n",
      "Surveyor, land/geomatics, Brown-Ortiz, Joshuatown, AE\n",
      "Legal executive, Hartman PLC, West Ericstad, AA\n",
      "Librarian, academic, Brooks Inc, Tuckertown, AE\n",
      "Barrister, Washington-Castillo, Perezton, AE\n",
      "Museum/gallery exhibitions officer, Nguyen, Yoder and Petty, Lake Abigail, AE\n",
      "Radiographer, diagnostic, Holder LLC, Jacobshire, AP\n",
      "Database administrator, Yates-Ferguson, Port Susan, AE\n",
      "Furniture designer, Ortega-Lawrence, North Tiffany, AA\n",
      "Ship broker, Fuentes, Walls and Castro, Michelleville, AP\n"
     ]
    }
   ],
   "source": [
    "div = driver.find_elements(By.CLASS_NAME, \"column.is-half\")\n",
    "for i in div:\n",
    "    position = i.find_element(By.CLASS_NAME, \"title.is-5\").text\n",
    "    company = i.find_element(By.CLASS_NAME, \"subtitle.is-6.company\").text\n",
    "    location = i.find_element(By.CLASS_NAME, \"location\").text\n",
    "    print(position, company, location, sep=\", \")\n"
   ]
  }
 ],
 "metadata": {
  "kernelspec": {
   "display_name": "Python 3",
   "language": "python",
   "name": "python3"
  },
  "language_info": {
   "codemirror_mode": {
    "name": "ipython",
    "version": 3
   },
   "file_extension": ".py",
   "mimetype": "text/x-python",
   "name": "python",
   "nbconvert_exporter": "python",
   "pygments_lexer": "ipython3",
   "version": "3.12.4"
  }
 },
 "nbformat": 4,
 "nbformat_minor": 5
}
